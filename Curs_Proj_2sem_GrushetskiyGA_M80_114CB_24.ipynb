{
  "cells": [
    {
      "cell_type": "markdown",
      "metadata": {
        "id": "vuGtjpSxrW9B"
      },
      "source": [
        "# Курсовая Работа Машинное Обучение\n",
        "## Работу выполнил студент группы М80-114СВ-24\n",
        "## Грушецкий Геннадий"
      ]
    },
    {
      "cell_type": "markdown",
      "metadata": {
        "id": "ek-h6uvRsl3w"
      },
      "source": [
        "#1. Описание датасета\n",
        "Используется для распознавания одежды по пикселям из датасета.\n",
        "\n",
        "Fashion Mnist - https://www.kaggle.com/datasets/zalando-research/fashionmnist"
      ]
    },
    {
      "cell_type": "markdown",
      "metadata": {
        "id": "AP6wwp_CrnFT"
      },
      "source": [
        "\n",
        "1. **Состав**:\n",
        "   - Датасет включает в себя 70,000 изображений, из которых 60,000 используются для обучения и 10,000 — для тестирования.\n",
        "   - Каждое изображение имеет размер 28x28 пикселей и представлено в градациях серого.\n",
        "\n",
        "2. **Классы**:\n",
        "   - Fashion содержит 10 различных классов одежды и аксессуаров:\n",
        "     1. T-shirt/top (футболка/рубашка)\n",
        "     2. Trouser (брюки)\n",
        "     3. Pullover (свитер)\n",
        "     4. Dress (платье)\n",
        "     5. Coat (пальто)\n",
        "     6. Sandal (сандалии)\n",
        "     7. Shirt (рубашка)\n",
        "     8. Sneaker (кроссовки)\n",
        "     9. Bag (сумка)\n",
        "     10. Ankle boot (ботинки)\n",
        "\n",
        "3. **Формат**:\n",
        "   - Изображения хранятся в массиве, где каждое изображение представлено одномерным вектором длины 784 (28x28), а классы представлены в виде меток."
      ]
    },
    {
      "cell_type": "markdown",
      "metadata": {
        "id": "OZpMkhUBsrhd"
      },
      "source": []
    },
    {
      "cell_type": "markdown",
      "metadata": {
        "id": "WANQBzZ4o_IB"
      },
      "source": [
        "## Загрузка датасета из библиотеки"
      ]
    },
    {
      "cell_type": "code",
      "execution_count": 12,
      "metadata": {
        "colab": {
          "base_uri": "https://localhost:8080/"
        },
        "id": "j_94h1hniAjl",
        "outputId": "13bb1953-5379-4846-91e2-af435c610e6b"
      },
      "outputs": [
        {
          "name": "stdout",
          "output_type": "stream",
          "text": [
            "Requirement already satisfied: shap in /usr/local/lib/python3.11/dist-packages (0.47.2)\n",
            "Requirement already satisfied: lime in /usr/local/lib/python3.11/dist-packages (0.2.0.1)\n",
            "Requirement already satisfied: scikit-learn in /usr/local/lib/python3.11/dist-packages (1.6.1)\n",
            "Requirement already satisfied: matplotlib in /usr/local/lib/python3.11/dist-packages (3.10.0)\n",
            "Requirement already satisfied: tensorflow in /usr/local/lib/python3.11/dist-packages (2.18.0)\n",
            "Requirement already satisfied: numpy in /usr/local/lib/python3.11/dist-packages (from shap) (2.0.2)\n",
            "Requirement already satisfied: scipy in /usr/local/lib/python3.11/dist-packages (from shap) (1.15.3)\n",
            "Requirement already satisfied: pandas in /usr/local/lib/python3.11/dist-packages (from shap) (2.2.2)\n",
            "Requirement already satisfied: tqdm>=4.27.0 in /usr/local/lib/python3.11/dist-packages (from shap) (4.67.1)\n",
            "Requirement already satisfied: packaging>20.9 in /usr/local/lib/python3.11/dist-packages (from shap) (24.2)\n",
            "Requirement already satisfied: slicer==0.0.8 in /usr/local/lib/python3.11/dist-packages (from shap) (0.0.8)\n",
            "Requirement already satisfied: numba>=0.54 in /usr/local/lib/python3.11/dist-packages (from shap) (0.60.0)\n",
            "Requirement already satisfied: cloudpickle in /usr/local/lib/python3.11/dist-packages (from shap) (3.1.1)\n",
            "Requirement already satisfied: typing-extensions in /usr/local/lib/python3.11/dist-packages (from shap) (4.13.2)\n",
            "Requirement already satisfied: scikit-image>=0.12 in /usr/local/lib/python3.11/dist-packages (from lime) (0.25.2)\n",
            "Requirement already satisfied: joblib>=1.2.0 in /usr/local/lib/python3.11/dist-packages (from scikit-learn) (1.5.0)\n",
            "Requirement already satisfied: threadpoolctl>=3.1.0 in /usr/local/lib/python3.11/dist-packages (from scikit-learn) (3.6.0)\n",
            "Requirement already satisfied: contourpy>=1.0.1 in /usr/local/lib/python3.11/dist-packages (from matplotlib) (1.3.2)\n",
            "Requirement already satisfied: cycler>=0.10 in /usr/local/lib/python3.11/dist-packages (from matplotlib) (0.12.1)\n",
            "Requirement already satisfied: fonttools>=4.22.0 in /usr/local/lib/python3.11/dist-packages (from matplotlib) (4.58.0)\n",
            "Requirement already satisfied: kiwisolver>=1.3.1 in /usr/local/lib/python3.11/dist-packages (from matplotlib) (1.4.8)\n",
            "Requirement already satisfied: pillow>=8 in /usr/local/lib/python3.11/dist-packages (from matplotlib) (11.2.1)\n",
            "Requirement already satisfied: pyparsing>=2.3.1 in /usr/local/lib/python3.11/dist-packages (from matplotlib) (3.2.3)\n",
            "Requirement already satisfied: python-dateutil>=2.7 in /usr/local/lib/python3.11/dist-packages (from matplotlib) (2.9.0.post0)\n",
            "Requirement already satisfied: absl-py>=1.0.0 in /usr/local/lib/python3.11/dist-packages (from tensorflow) (1.4.0)\n",
            "Requirement already satisfied: astunparse>=1.6.0 in /usr/local/lib/python3.11/dist-packages (from tensorflow) (1.6.3)\n",
            "Requirement already satisfied: flatbuffers>=24.3.25 in /usr/local/lib/python3.11/dist-packages (from tensorflow) (25.2.10)\n",
            "Requirement already satisfied: gast!=0.5.0,!=0.5.1,!=0.5.2,>=0.2.1 in /usr/local/lib/python3.11/dist-packages (from tensorflow) (0.6.0)\n",
            "Requirement already satisfied: google-pasta>=0.1.1 in /usr/local/lib/python3.11/dist-packages (from tensorflow) (0.2.0)\n",
            "Requirement already satisfied: libclang>=13.0.0 in /usr/local/lib/python3.11/dist-packages (from tensorflow) (18.1.1)\n",
            "Requirement already satisfied: opt-einsum>=2.3.2 in /usr/local/lib/python3.11/dist-packages (from tensorflow) (3.4.0)\n",
            "Requirement already satisfied: protobuf!=4.21.0,!=4.21.1,!=4.21.2,!=4.21.3,!=4.21.4,!=4.21.5,<6.0.0dev,>=3.20.3 in /usr/local/lib/python3.11/dist-packages (from tensorflow) (5.29.4)\n",
            "Requirement already satisfied: requests<3,>=2.21.0 in /usr/local/lib/python3.11/dist-packages (from tensorflow) (2.32.3)\n",
            "Requirement already satisfied: setuptools in /usr/local/lib/python3.11/dist-packages (from tensorflow) (75.2.0)\n",
            "Requirement already satisfied: six>=1.12.0 in /usr/local/lib/python3.11/dist-packages (from tensorflow) (1.17.0)\n",
            "Requirement already satisfied: termcolor>=1.1.0 in /usr/local/lib/python3.11/dist-packages (from tensorflow) (3.1.0)\n",
            "Requirement already satisfied: wrapt>=1.11.0 in /usr/local/lib/python3.11/dist-packages (from tensorflow) (1.17.2)\n",
            "Requirement already satisfied: grpcio<2.0,>=1.24.3 in /usr/local/lib/python3.11/dist-packages (from tensorflow) (1.71.0)\n",
            "Requirement already satisfied: tensorboard<2.19,>=2.18 in /usr/local/lib/python3.11/dist-packages (from tensorflow) (2.18.0)\n",
            "Requirement already satisfied: keras>=3.5.0 in /usr/local/lib/python3.11/dist-packages (from tensorflow) (3.8.0)\n",
            "Requirement already satisfied: h5py>=3.11.0 in /usr/local/lib/python3.11/dist-packages (from tensorflow) (3.13.0)\n",
            "Requirement already satisfied: ml-dtypes<0.5.0,>=0.4.0 in /usr/local/lib/python3.11/dist-packages (from tensorflow) (0.4.1)\n",
            "Requirement already satisfied: tensorflow-io-gcs-filesystem>=0.23.1 in /usr/local/lib/python3.11/dist-packages (from tensorflow) (0.37.1)\n",
            "Requirement already satisfied: wheel<1.0,>=0.23.0 in /usr/local/lib/python3.11/dist-packages (from astunparse>=1.6.0->tensorflow) (0.45.1)\n",
            "Requirement already satisfied: rich in /usr/local/lib/python3.11/dist-packages (from keras>=3.5.0->tensorflow) (13.9.4)\n",
            "Requirement already satisfied: namex in /usr/local/lib/python3.11/dist-packages (from keras>=3.5.0->tensorflow) (0.0.9)\n",
            "Requirement already satisfied: optree in /usr/local/lib/python3.11/dist-packages (from keras>=3.5.0->tensorflow) (0.15.0)\n",
            "Requirement already satisfied: llvmlite<0.44,>=0.43.0dev0 in /usr/local/lib/python3.11/dist-packages (from numba>=0.54->shap) (0.43.0)\n",
            "Requirement already satisfied: charset-normalizer<4,>=2 in /usr/local/lib/python3.11/dist-packages (from requests<3,>=2.21.0->tensorflow) (3.4.2)\n",
            "Requirement already satisfied: idna<4,>=2.5 in /usr/local/lib/python3.11/dist-packages (from requests<3,>=2.21.0->tensorflow) (3.10)\n",
            "Requirement already satisfied: urllib3<3,>=1.21.1 in /usr/local/lib/python3.11/dist-packages (from requests<3,>=2.21.0->tensorflow) (2.4.0)\n",
            "Requirement already satisfied: certifi>=2017.4.17 in /usr/local/lib/python3.11/dist-packages (from requests<3,>=2.21.0->tensorflow) (2025.4.26)\n",
            "Requirement already satisfied: networkx>=3.0 in /usr/local/lib/python3.11/dist-packages (from scikit-image>=0.12->lime) (3.4.2)\n",
            "Requirement already satisfied: imageio!=2.35.0,>=2.33 in /usr/local/lib/python3.11/dist-packages (from scikit-image>=0.12->lime) (2.37.0)\n",
            "Requirement already satisfied: tifffile>=2022.8.12 in /usr/local/lib/python3.11/dist-packages (from scikit-image>=0.12->lime) (2025.5.21)\n",
            "Requirement already satisfied: lazy-loader>=0.4 in /usr/local/lib/python3.11/dist-packages (from scikit-image>=0.12->lime) (0.4)\n",
            "Requirement already satisfied: markdown>=2.6.8 in /usr/local/lib/python3.11/dist-packages (from tensorboard<2.19,>=2.18->tensorflow) (3.8)\n",
            "Requirement already satisfied: tensorboard-data-server<0.8.0,>=0.7.0 in /usr/local/lib/python3.11/dist-packages (from tensorboard<2.19,>=2.18->tensorflow) (0.7.2)\n",
            "Requirement already satisfied: werkzeug>=1.0.1 in /usr/local/lib/python3.11/dist-packages (from tensorboard<2.19,>=2.18->tensorflow) (3.1.3)\n",
            "Requirement already satisfied: pytz>=2020.1 in /usr/local/lib/python3.11/dist-packages (from pandas->shap) (2025.2)\n",
            "Requirement already satisfied: tzdata>=2022.7 in /usr/local/lib/python3.11/dist-packages (from pandas->shap) (2025.2)\n",
            "Requirement already satisfied: MarkupSafe>=2.1.1 in /usr/local/lib/python3.11/dist-packages (from werkzeug>=1.0.1->tensorboard<2.19,>=2.18->tensorflow) (3.0.2)\n",
            "Requirement already satisfied: markdown-it-py>=2.2.0 in /usr/local/lib/python3.11/dist-packages (from rich->keras>=3.5.0->tensorflow) (3.0.0)\n",
            "Requirement already satisfied: pygments<3.0.0,>=2.13.0 in /usr/local/lib/python3.11/dist-packages (from rich->keras>=3.5.0->tensorflow) (2.19.1)\n",
            "Requirement already satisfied: mdurl~=0.1 in /usr/local/lib/python3.11/dist-packages (from markdown-it-py>=2.2.0->rich->keras>=3.5.0->tensorflow) (0.1.2)\n"
          ]
        }
      ],
      "source": [
        "import numpy as np\n",
        "import matplotlib.pyplot as plt\n",
        "import tensorflow as tf\n",
        "from tensorflow import keras\n",
        "import pandas as pd\n",
        "%matplotlib inline\n",
        "from tensorflow.keras.datasets import fashion_mnist\n",
        "from tensorflow.keras.models import Sequential\n",
        "from tensorflow.keras.layers import Dense, Dropout\n",
        "from tensorflow.keras import utils\n",
        "!pip install shap lime scikit-learn matplotlib tensorflow\n",
        "from sklearn.datasets import fetch_openml\n",
        "from sklearn.model_selection import train_test_split\n",
        "from sklearn.preprocessing import StandardScaler\n",
        "from sklearn.svm import SVC\n",
        "from sklearn.metrics import accuracy_score\n",
        "import shap\n",
        "from lime import lime_image\n",
        "from lime.wrappers.scikit_image import SegmentationAlgorithm\n",
        "from sklearn.decomposition import PCA\n",
        "from sklearn.linear_model import LogisticRegression\n",
        "from lime import lime_tabular\n",
        "import time"
      ]
    },
    {
      "cell_type": "code",
      "execution_count": 13,
      "metadata": {
        "id": "qLsrwQO4ipmX"
      },
      "outputs": [],
      "source": [
        "(x_train, y_train), (x_test, y_test) = fashion_mnist.load_data()"
      ]
    },
    {
      "cell_type": "code",
      "execution_count": 14,
      "metadata": {
        "id": "HjTFJBJDi1Hd"
      },
      "outputs": [],
      "source": [
        "class_names = ['T-shirt/top', 'Trousers', 'Pullover', 'Dress', 'Coat', 'Sandal', 'Shirt', 'Sneaker', 'Bag', 'Ankle boot']"
      ]
    },
    {
      "cell_type": "code",
      "execution_count": 15,
      "metadata": {
        "colab": {
          "base_uri": "https://localhost:8080/",
          "height": 430
        },
        "id": "VWUNzxmSjO_7",
        "outputId": "08858692-2209-4748-a4be-29cf6718168f"
      },
      "outputs": [
        {
          "data": {
            "image/png": "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",
            "text/plain": [
              "<Figure size 640x480 with 2 Axes>"
            ]
          },
          "metadata": {},
          "output_type": "display_data"
        }
      ],
      "source": [
        "plt.figure()\n",
        "plt.imshow(x_train[3])\n",
        "plt.colorbar()\n",
        "plt.grid(False)"
      ]
    },
    {
      "cell_type": "markdown",
      "metadata": {
        "id": "iMm1h1tIs6Z0"
      },
      "source": [
        "# Импорты"
      ]
    },
    {
      "cell_type": "markdown",
      "metadata": {
        "id": "0aEIxuzzs-A9"
      },
      "source": [
        "# Загрузка данных для Lime и Shape и создание модели"
      ]
    },
    {
      "cell_type": "markdown",
      "metadata": {
        "id": "VmpsAACDtFR1"
      },
      "source": [
        "## Попытка использования Lime на картинке и применение Shape"
      ]
    },
    {
      "cell_type": "code",
      "execution_count": 16,
      "metadata": {
        "colab": {
          "base_uri": "https://localhost:8080/",
          "height": 1000,
          "referenced_widgets": [
            "5384b4cf025041c8a00259f7e445f374",
            "b4c6d4442919416cab4f346db305cca8",
            "640392c9d94e48f0bb27c65455c99910",
            "afff980251b542dab18928cf81fa6d83",
            "9aaeb07db11146c4838374bc01a4a80d",
            "c74cc970dcfd44fa94e858fa1e5fa210",
            "7cd672ef5e6a4377b76fc970748a55c5",
            "bf9047afbdfe43ab9ecf225eff67779a",
            "0c19071a723f48f696b5faee21651e30",
            "ce7c5fcef66644838535bf7039004dd7",
            "757362ad202c4e12b5398191eecd7a6a"
          ]
        },
        "id": "Kt4CAXplgcRh",
        "outputId": "9ed4a1c4-95a9-43d5-de6f-f7d2e66ab587"
      },
      "outputs": [
        {
          "name": "stdout",
          "output_type": "stream",
          "text": [
            "SHAP Explanation:\n"
          ]
        },
        {
          "data": {
            "text/plain": [
              "<Figure size 640x480 with 0 Axes>"
            ]
          },
          "metadata": {},
          "output_type": "display_data"
        },
        {
          "data": {
            "image/png": "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",
            "text/plain": [
              "<Figure size 1150x660 with 1 Axes>"
            ]
          },
          "metadata": {},
          "output_type": "display_data"
        },
        {
          "name": "stdout",
          "output_type": "stream",
          "text": [
            "\n",
            "LIME Explanation:\n"
          ]
        },
        {
          "data": {
            "application/vnd.jupyter.widget-view+json": {
              "model_id": "5384b4cf025041c8a00259f7e445f374",
              "version_major": 2,
              "version_minor": 0
            },
            "text/plain": [
              "  0%|          | 0/500 [00:00<?, ?it/s]"
            ]
          },
          "metadata": {},
          "output_type": "display_data"
        },
        {
          "data": {
            "image/png": "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",
            "text/plain": [
              "<Figure size 1000x500 with 2 Axes>"
            ]
          },
          "metadata": {},
          "output_type": "display_data"
        }
      ],
      "source": [
        "# Загрузка и подготовка данных\n",
        "def load_data():\n",
        "    fashion_mnist = fetch_openml('Fashion-MNIST', version=1, as_frame=False, parser='auto')\n",
        "    X, y = fashion_mnist.data, fashion_mnist.target.astype(int)\n",
        "    X = X / 255.0  # Нормализация к [0, 1]\n",
        "    return X, y\n",
        "\n",
        "X, y = load_data()\n",
        "X_train, X_test, y_train, y_test = train_test_split(X, y, test_size=0.2, random_state=42)\n",
        "\n",
        "# Уменьшение размерности\n",
        "pca = PCA(n_components=100)\n",
        "X_train_pca = pca.fit_transform(X_train)\n",
        "X_test_pca = pca.transform(X_test)\n",
        "\n",
        "# Обучение модели\n",
        "model = LogisticRegression(max_iter=1000, random_state=42, n_jobs=-1)\n",
        "model.fit(X_train_pca, y_train)\n",
        "\n",
        "# SHAP объяснения\n",
        "def shap_explanation():\n",
        "    explainer = shap.LinearExplainer(model, X_train_pca)\n",
        "    shap_values = explainer.shap_values(X_test_pca[:5])\n",
        "    shap.summary_plot(shap_values, X_test_pca[:5], feature_names=[f'PC_{i}' for i in range(100)])\n",
        "\n",
        "# LIME объяснения\n",
        "def lime_explanation():\n",
        "    explainer = lime_image.LimeImageExplainer()\n",
        "\n",
        "    # Правильная функция-обертка с обработкой формата LIME\n",
        "    def predict_fn(images):\n",
        "        if len(images.shape) == 4:  # Случай с каналами (channels)\n",
        "            n_samples = images.shape[0]\n",
        "            images = images.reshape(n_samples, -1)[:, :784]  # Берем только первые 784 элемента\n",
        "        elif len(images.shape) == 3:  # Grayscale без каналов\n",
        "            images = images.reshape(images.shape[0], -1)\n",
        "        else:\n",
        "            raise ValueError(f\"Unexpected input shape: {images.shape}\")\n",
        "\n",
        "        # Применяем PCA (ожидает 784 features)\n",
        "        if images.shape[1] != 784:\n",
        "            raise ValueError(f\"Expected 784 features, got {images.shape[1]}\")\n",
        "\n",
        "        images_pca = pca.transform(images)\n",
        "        return model.predict_proba(images_pca)\n",
        "\n",
        "    # Подготовка тестового изображения\n",
        "    img_idx = 0\n",
        "    sample_image = X_test[img_idx].reshape(28, 28)  # LIME ожидает (28, 28)\n",
        "\n",
        "    # Объяснение с обработкой ошибок\n",
        "    try:\n",
        "        explanation = explainer.explain_instance(\n",
        "            sample_image,\n",
        "            predict_fn,\n",
        "            top_labels=3,  # Уменьшим для скорости\n",
        "            num_samples=500,  # Уменьшим количество samples\n",
        "            hide_color=0,\n",
        "            batch_size=50\n",
        "        )\n",
        "\n",
        "        # Визуализация\n",
        "        plt.figure(figsize=(10, 5))\n",
        "\n",
        "        # Оригинальное изображение\n",
        "        plt.subplot(1, 2, 1)\n",
        "        plt.imshow(sample_image, cmap='gray')\n",
        "        plt.title(f\"Original\\nTrue: {y_test[img_idx]}\")\n",
        "\n",
        "        # Объяснение\n",
        "        plt.subplot(1, 2, 2)\n",
        "        temp, mask = explanation.get_image_and_mask(\n",
        "            explanation.top_labels[0],\n",
        "            positive_only=True,\n",
        "            num_features=5,\n",
        "            hide_rest=True\n",
        "        )\n",
        "        plt.imshow(mask, cmap='RdBu')\n",
        "        plt.title(f\"Explanation\\nPred: {model.predict(X_test_pca[img_idx:img_idx+1])[0]}\")\n",
        "\n",
        "        plt.tight_layout()\n",
        "        plt.show()\n",
        "\n",
        "    except Exception as e:\n",
        "        print(f\"Error during explanation: {str(e)}\")\n",
        "        raise\n",
        "\n",
        "# Запуск объяснений\n",
        "print(\"SHAP Explanation:\")\n",
        "shap_explanation()\n",
        "\n",
        "print(\"\\nLIME Explanation:\")\n",
        "lime_explanation()"
      ]
    },
    {
      "cell_type": "markdown",
      "metadata": {
        "id": "GTCrW06jtNvG"
      },
      "source": [
        "## Использование Lime на датасете в численном формате"
      ]
    },
    {
      "cell_type": "code",
      "execution_count": 17,
      "metadata": {
        "colab": {
          "base_uri": "https://localhost:8080/",
          "height": 607
        },
        "id": "nW2qLQLOoHDR",
        "outputId": "a4aaf024-d85f-42ee-a86c-e8d12a7936a0"
      },
      "outputs": [
        {
          "data": {
            "image/png": "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",
            "text/plain": [
              "<Figure size 1000x600 with 1 Axes>"
            ]
          },
          "metadata": {},
          "output_type": "display_data"
        }
      ],
      "source": [
        "# Загрузка и подготовка данных\n",
        "def load_data():\n",
        "    fashion_mnist = fetch_openml('Fashion-MNIST', version=1, as_frame=False, parser='auto')\n",
        "    X, y = fashion_mnist.data, fashion_mnist.target.astype(int)\n",
        "    X = X / 255.0  # Нормализация к [0, 1]\n",
        "    return X, y\n",
        "\n",
        "X, y = load_data()\n",
        "X_train, X_test, y_train, y_test = train_test_split(X, y, test_size=0.2, random_state=42)\n",
        "\n",
        "# Уменьшение размерности\n",
        "pca = PCA(n_components=100)\n",
        "X_train_pca = pca.fit_transform(X_train)\n",
        "X_test_pca = pca.transform(X_test)\n",
        "\n",
        "# Обучение модели\n",
        "model = LogisticRegression(max_iter=1000, random_state=42, n_jobs=-1)\n",
        "model.fit(X_train_pca, y_train)\n",
        "\n",
        "\n",
        "example_data = np.array([[2200, 2, 1, 1, 0]])\n",
        "\n",
        "example_data_fixed = np.zeros((1, 784))\n",
        "example_data_fixed[0, :5] = example_data[0]\n",
        "\n",
        "\n",
        "example_data_pca = pca.transform(example_data_fixed)\n",
        "\n",
        "\n",
        "lime_explainer = lime_tabular.LimeTabularExplainer(\n",
        "    X_train_pca,\n",
        "    training_labels=y_train,\n",
        "    feature_names=[f'pca_{i}' for i in range(100)],\n",
        "    class_names=['T-shirt', 'Trouser', 'Pullover', 'Dress', 'Coat',\n",
        "                'Sandal', 'Shirt', 'Sneaker', 'Bag', 'Ankle boot'],\n",
        "    mode='classification'\n",
        ")\n",
        "\n",
        "# Интерпретация\n",
        "lime_exp = lime_explainer.explain_instance(\n",
        "    example_data_pca[0],\n",
        "    model.predict_proba,\n",
        "    num_features=5\n",
        ")\n",
        "\n",
        "# Значения для визуализации\n",
        "explanation_list = lime_exp.as_list()\n",
        "features = [x[0] for x in explanation_list]\n",
        "weights = [x[1] for x in explanation_list]\n",
        "\n",
        "# Визуализация\n",
        "plt.figure(figsize=(10, 6))\n",
        "bars = plt.barh(features, weights, color=['blue' if w > 0 else 'red' for w in weights])\n",
        "plt.xlabel('Разброс пикселя')\n",
        "plt.title('Показательное представление пикселей для классов')\n",
        "plt.grid(True)\n",
        "plt.tight_layout()\n",
        "plt.show()"
      ]
    },
    {
      "cell_type": "code",
      "execution_count": 17,
      "metadata": {
        "id": "8sitomo1uGwc"
      },
      "outputs": [],
      "source": []
    },
    {
      "cell_type": "code",
      "execution_count": 18,
      "metadata": {
        "colab": {
          "base_uri": "https://localhost:8080/",
          "height": 122
        },
        "id": "z7gJ2R1yuF_q",
        "outputId": "c46303ef-c6a5-467f-de41-920666ad10f5"
      },
      "outputs": [
        {
          "data": {
            "application/vnd.google.colaboratory.intrinsic+json": {
              "type": "string"
            },
            "text/plain": [
              "\"import lime\\nfrom lime import lime_image\\nimport shap\\nfrom skimage.segmentation import mark_boundaries\\nimport matplotlib.pyplot as plt\\n\\n# Select a random test image for explanation\\ndef get_test_image():\\n    random_idx = random.randint(0, len(test_ds)-1)\\n    image, label = test_ds[random_idx]\\n    return image.unsqueeze(0).to(device), label, random_idx\\n\\ntest_image, true_label, idx = get_test_image()\\n\\n# Move model to CPU for visualization (SHAP works better on CPU)\\nmodel_cpu = model.to('cpu')\\ntest_image_cpu = test_image.to('cpu')\\n\\n# 1. LIME Explanation\\ndef lime_explanation(image, model, top_labels=5, hide_color=0, num_samples=1000):\\n    # Create a wrapper function that LIME can use\\n    def batch_predict(images):\\n        model.eval()\\n        batch = torch.stack([\\n            transforms.functional.to_tensor(img) for img in images\\n        ]).float()\\n        batch = transforms.functional.normalize(\\n            batch, \\n            mean=[0.485, 0.456, 0.406], \\n            std=[0.229, 0.224, 0.225]\\n        )\\n        device = next(model.parameters()).device\\n        batch = batch.to(device)\\n        \\n        with torch.no_grad():\\n            logits = model(batch)\\n            probs = torch.nn.functional.softmax(logits, dim=1)\\n        return probs.detach().cpu().numpy()\\n    \\n    explainer = lime_image.LimeImageExplainer()\\n    explanation = explainer.explain_instance(\\n        image[0].permute(1, 2, 0).cpu().numpy(), \\n        batch_predict,  # Use our wrapper\\n        top_labels=top_labels, \\n        hide_color=hide_color, \\n        num_samples=num_samples\\n    )\\n    return explanation\\n\\n# Get test image (make sure it's on CPU)\\ntest_image, true_label, idx = get_test_image()\\ntest_image_cpu = test_image.cpu()\\n\\n# Get LIME explanation\\nlime_exp = lime_explanation(test_image_cpu, model.to('cpu'))\\n\\n# Visualize LIME explanation\\nplt.figure(figsize=(10, 5))\\ntemp, mask = lime_exp.get_image_and_mask(\\n    lime_exp.top_labels[0], \\n    positive_only=True, \\n    num_features=5, \\n    hide_rest=False\\n)\\nplt.imshow(mark_boundaries(temp, mask))\\nplt.title(f'LIME Explanation (True class: {test_ds.classes[true_label]})')\\nplt.axis('off')\\nplt.show()\""
            ]
          },
          "execution_count": 18,
          "metadata": {},
          "output_type": "execute_result"
        }
      ],
      "source": [
        "'''import lime\n",
        "from lime import lime_image\n",
        "import shap\n",
        "from skimage.segmentation import mark_boundaries\n",
        "import matplotlib.pyplot as plt\n",
        "\n",
        "# Select a random test image for explanation\n",
        "def get_test_image():\n",
        "    random_idx = random.randint(0, len(test_ds)-1)\n",
        "    image, label = test_ds[random_idx]\n",
        "    return image.unsqueeze(0).to(device), label, random_idx\n",
        "\n",
        "test_image, true_label, idx = get_test_image()\n",
        "\n",
        "# Move model to CPU for visualization (SHAP works better on CPU)\n",
        "model_cpu = model.to('cpu')\n",
        "test_image_cpu = test_image.to('cpu')\n",
        "\n",
        "# 1. LIME Explanation\n",
        "def lime_explanation(image, model, top_labels=5, hide_color=0, num_samples=1000):\n",
        "    # Create a wrapper function that LIME can use\n",
        "    def batch_predict(images):\n",
        "        model.eval()\n",
        "        batch = torch.stack([\n",
        "            transforms.functional.to_tensor(img) for img in images\n",
        "        ]).float()\n",
        "        batch = transforms.functional.normalize(\n",
        "            batch,\n",
        "            mean=[0.485, 0.456, 0.406],\n",
        "            std=[0.229, 0.224, 0.225]\n",
        "        )\n",
        "        device = next(model.parameters()).device\n",
        "        batch = batch.to(device)\n",
        "\n",
        "        with torch.no_grad():\n",
        "            logits = model(batch)\n",
        "            probs = torch.nn.functional.softmax(logits, dim=1)\n",
        "        return probs.detach().cpu().numpy()\n",
        "\n",
        "    explainer = lime_image.LimeImageExplainer()\n",
        "    explanation = explainer.explain_instance(\n",
        "        image[0].permute(1, 2, 0).cpu().numpy(),\n",
        "        batch_predict,  # Use our wrapper\n",
        "        top_labels=top_labels,\n",
        "        hide_color=hide_color,\n",
        "        num_samples=num_samples\n",
        "    )\n",
        "    return explanation\n",
        "\n",
        "# Get test image (make sure it's on CPU)\n",
        "test_image, true_label, idx = get_test_image()\n",
        "test_image_cpu = test_image.cpu()\n",
        "\n",
        "# Get LIME explanation\n",
        "lime_exp = lime_explanation(test_image_cpu, model.to('cpu'))\n",
        "\n",
        "# Visualize LIME explanation\n",
        "plt.figure(figsize=(10, 5))\n",
        "temp, mask = lime_exp.get_image_and_mask(\n",
        "    lime_exp.top_labels[0],\n",
        "    positive_only=True,\n",
        "    num_features=5,\n",
        "    hide_rest=False\n",
        ")\n",
        "plt.imshow(mark_boundaries(temp, mask))\n",
        "plt.title(f'LIME Explanation (True class: {test_ds.classes[true_label]})')\n",
        "plt.axis('off')\n",
        "plt.show()'''"
      ]
    }
  ],
  "metadata": {
    "colab": {
      "provenance": []
    },
    "kernelspec": {
      "display_name": "Python 3",
      "name": "python3"
    },
    "language_info": {
      "name": "python"
    },
    "widgets": {
      "application/vnd.jupyter.widget-state+json": {
        "0c19071a723f48f696b5faee21651e30": {
          "model_module": "@jupyter-widgets/controls",
          "model_module_version": "1.5.0",
          "model_name": "ProgressStyleModel",
          
        },
        "5384b4cf025041c8a00259f7e445f374": {
          "model_module": "@jupyter-widgets/controls",
          "model_module_version": "1.5.0",
          "model_name": "HBoxModel",
        },
        "640392c9d94e48f0bb27c65455c99910": {
          "model_module": "@jupyter-widgets/controls",
          "model_module_version": "1.5.0",
          "model_name": "FloatProgressModel",
        },
        "757362ad202c4e12b5398191eecd7a6a": {
          "model_module": "@jupyter-widgets/controls",
          "model_module_version": "1.5.0",
          "model_name": "DescriptionStyleModel",
        },
        "7cd672ef5e6a4377b76fc970748a55c5": {
          "model_module": "@jupyter-widgets/controls",
          "model_module_version": "1.5.0",
          "model_name": "DescriptionStyleModel",
        },
        "9aaeb07db11146c4838374bc01a4a80d": {
          "model_module": "@jupyter-widgets/base",
          "model_module_version": "1.2.0",
          "model_name": "LayoutModel",
        },
        "afff980251b542dab18928cf81fa6d83": {
          "model_module": "@jupyter-widgets/controls",
          "model_module_version": "1.5.0",
          "model_name": "HTMLModel",
        },
        "b4c6d4442919416cab4f346db305cca8": {
          "model_module": "@jupyter-widgets/controls",
          "model_module_version": "1.5.0",
          "model_name": "HTMLModel",
        },
        "bf9047afbdfe43ab9ecf225eff67779a": {
          "model_module": "@jupyter-widgets/base",
          "model_module_version": "1.2.0",
          "model_name": "LayoutModel",
          
        },
        "c74cc970dcfd44fa94e858fa1e5fa210": {
          "model_module": "@jupyter-widgets/base",
          "model_module_version": "1.2.0",
          "model_name": "LayoutModel",
         
        },
        "ce7c5fcef66644838535bf7039004dd7": {
          "model_module": "@jupyter-widgets/base",
          "model_module_version": "1.2.0",
          "model_name": "LayoutModel",
          
        }
      }
    }
  },
  "nbformat": 4,
  "nbformat_minor": 0
}
